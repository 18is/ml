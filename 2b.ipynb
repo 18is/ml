{
 "cells": [
  {
   "cell_type": "code",
   "execution_count": 2,
   "id": "00e2beb5",
   "metadata": {},
   "outputs": [
    {
     "name": "stderr",
     "output_type": "stream",
     "text": [
      "C:\\Users\\lenovo\\AppData\\Local\\Temp/ipykernel_31320/3551924494.py:8: FutureWarning: In a future version of pandas all arguments of DataFrame.drop except for the argument 'labels' will be keyword-only\n",
      "  x = data.drop('Type', 1)\n"
     ]
    },
    {
     "name": "stdout",
     "output_type": "stream",
     "text": [
      "Accuracy Of Linear Kernel:  0.9814814814814815\n",
      "Confusion Matrix: \n",
      " [[16  0  0  0  0  0]\n",
      " [ 0 20  0  0  0  0]\n",
      " [ 0  0  6  0  0  0]\n",
      " [ 0  0  0  4  1  0]\n",
      " [ 0  0  0  0  1  0]\n",
      " [ 0  0  0  0  0  6]]\n",
      "Classification report: \n",
      "               precision    recall  f1-score   support\n",
      "\n",
      "           1       1.00      1.00      1.00        16\n",
      "           2       1.00      1.00      1.00        20\n",
      "           3       1.00      1.00      1.00         6\n",
      "           5       1.00      0.80      0.89         5\n",
      "           6       0.50      1.00      0.67         1\n",
      "           7       1.00      1.00      1.00         6\n",
      "\n",
      "    accuracy                           0.98        54\n",
      "   macro avg       0.92      0.97      0.93        54\n",
      "weighted avg       0.99      0.98      0.98        54\n",
      "\n",
      "Accuracy Of Sigmoid Kernel:  0.6296296296296297\n",
      "Accuracy Of Ploy Kernel:  0.9444444444444444\n",
      "Accuracy Of RBF Kernel:  0.7592592592592593\n"
     ]
    }
   ],
   "source": [
    "from sklearn import svm\n",
    "import pandas as pd\n",
    "import numpy as np\n",
    "from sklearn.model_selection import train_test_split\n",
    "from sklearn.metrics import accuracy_score, confusion_matrix,classification_report\n",
    "data = pd.read_csv('glass.csv')\n",
    "y = data['Type']\n",
    "x = data.drop('Type', 1)\n",
    "xtrain, xtest, ytrain, ytest = train_test_split(x, y, test_size=0.25)\n",
    "linear = svm.SVC(kernel='linear')\n",
    "linear.fit(xtrain, ytrain)\n",
    "ypred1 = linear.predict(xtest)\n",
    "#print(linear.support_vectors_)\n",
    "#print(linear.n_support_)\n",
    "print(\"Accuracy Of Linear Kernel: \", accuracy_score(ytest, ypred1))\n",
    "print(\"Confusion Matrix: \\n\", confusion_matrix(ytest, ypred1))\n",
    "print(\"Classification report: \\n\", classification_report(ytest, ypred1))\n",
    "sigmoid = svm.SVC(kernel='sigmoid')\n",
    "poly = svm.SVC(kernel='poly')\n",
    "rbf = svm.SVC(kernel='rbf')\n",
    "sigmoid.fit(xtrain, ytrain)\n",
    "poly.fit(xtrain, ytrain)\n",
    "rbf.fit(xtrain, ytrain)\n",
    "ypred2 = sigmoid.predict(xtest)\n",
    "ypred3 = poly.predict(xtest)\n",
    "ypred4 = rbf.predict(xtest)\n",
    "print(\"Accuracy Of Sigmoid Kernel: \", accuracy_score(ytest, ypred2))\n",
    "print(\"Accuracy Of Ploy Kernel: \", accuracy_score(ytest, ypred3))\n",
    "print(\"Accuracy Of RBF Kernel: \", accuracy_score(ytest, ypred4))\n"
   ]
  },
  {
   "cell_type": "code",
   "execution_count": null,
   "id": "2dba4e71",
   "metadata": {},
   "outputs": [],
   "source": []
  }
 ],
 "metadata": {
  "kernelspec": {
   "display_name": "Python 3 (ipykernel)",
   "language": "python",
   "name": "python3"
  },
  "language_info": {
   "codemirror_mode": {
    "name": "ipython",
    "version": 3
   },
   "file_extension": ".py",
   "mimetype": "text/x-python",
   "name": "python",
   "nbconvert_exporter": "python",
   "pygments_lexer": "ipython3",
   "version": "3.9.7"
  }
 },
 "nbformat": 4,
 "nbformat_minor": 5
}
